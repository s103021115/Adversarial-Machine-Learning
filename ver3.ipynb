{
  "nbformat": 4,
  "nbformat_minor": 0,
  "metadata": {
    "colab": {
      "name": "ver3.ipynb",
      "provenance": [],
      "collapsed_sections": [],
      "toc_visible": true,
      "mount_file_id": "10r-hi0bLfjt5RBqM6yxUDu2wyCwR-WKz",
      "authorship_tag": "ABX9TyORsLuu+fj5P7j03lz9qm/y",
      "include_colab_link": true
    },
    "kernelspec": {
      "name": "python3",
      "display_name": "Python 3"
    }
  },
  "cells": [
    {
      "cell_type": "markdown",
      "metadata": {
        "id": "view-in-github",
        "colab_type": "text"
      },
      "source": [
        "<a href=\"https://colab.research.google.com/github/s103021115/Adversarial-Machine-Learning/blob/master/ver3.ipynb\" target=\"_parent\"><img src=\"https://colab.research.google.com/assets/colab-badge.svg\" alt=\"Open In Colab\"/></a>"
      ]
    },
    {
      "cell_type": "markdown",
      "metadata": {
        "id": "GtqCBLYUh5oc"
      },
      "source": [
        "# **Federated learning base on auction game**"
      ]
    },
    {
      "cell_type": "markdown",
      "metadata": {
        "id": "J9KRTxd_iDJ7"
      },
      "source": [
        "##Class Define"
      ]
    },
    {
      "cell_type": "markdown",
      "metadata": {
        "id": "iRz7ZaxFXKQ9"
      },
      "source": [
        "### User class"
      ]
    },
    {
      "cell_type": "code",
      "metadata": {
        "id": "FJPvrHmHXCp-"
      },
      "source": [
        "import math\n",
        "import copy\n",
        "class User:\n",
        "  def __init__(self,data_type = \"None\",iteration = 0,delay = 0,valuation = [0,0]):\n",
        "    self.data_type = data_type      # type of user : \"task_type\"\n",
        "    self.iteration = iteration # iteration count for model : tao\n",
        "    self.delay = delay     # maximum delay of user : d\n",
        "    self.valuation = valuation\n",
        "  def SetType(self,data_type):\n",
        "    self.data_type = data_type\n",
        "  def SetIteration(self,iteration):\n",
        "    self.iteration = iteration\n",
        "  def SetDelay(self,delay):\n",
        "    self.delay = delay\n",
        "  def SetValuation(self,valuation):\n",
        "    self.valuation = valuation\n",
        "\n",
        "  def PrintUser(self):\n",
        "    print(\"| type : %s | iteration : %d | delay : %d | valuation = [%f,%f]\"%(self.data_type,self.iteration,self.delay,self.valuation[0],self.valuation[1]))\n",
        "\n",
        "  def FitWorkers(self,workers):\n",
        "    fit_workers = []\n",
        "    for j in range(len(workers)):\n",
        "      if workers[j].FindType(self.data_type) > -1:\n",
        "         fit_workers.append(copy.deepcopy(workers[j]))\n",
        "    return fit_workers\n",
        "  def FitWorkersList(self,workers):\n",
        "    fit_workers_list = []\n",
        "    for j in range(len(workers)):\n",
        "      if workers[j].FindType(self.data_type) > -1:\n",
        "         fit_workers_list.append(j)\n",
        "    return fit_workers_list\n",
        "  def Gain(self,data):\n",
        "    gain = self.valuation[0]*math.log(1+self.valuation[1]*data)\n",
        "    return gain\n"
      ],
      "execution_count": 79,
      "outputs": []
    },
    {
      "cell_type": "markdown",
      "metadata": {
        "id": "ktv6Jfoq3r3s"
      },
      "source": [
        "####\\__init__(data_type, iteration, delay, valuation)\n",
        "data_type : user data type, string<br>\n",
        "iteration : user training model iteration<br>\n",
        "delay   : user maximun tolerate delay time<br>\n",
        "valuation : [$a_1, a_2$] for valuation function $a_1\\ln(a_2D)$, where $D$ is data size<br>"
      ]
    },
    {
      "cell_type": "markdown",
      "metadata": {
        "id": "XspN9UJG55Wa"
      },
      "source": [
        "####SetType(data_type)\n",
        "set user data type"
      ]
    },
    {
      "cell_type": "markdown",
      "metadata": {
        "id": "JE8CH3Gr6HKa"
      },
      "source": [
        "####SetIteration(iteration)\n",
        "set user train model iteration"
      ]
    },
    {
      "cell_type": "markdown",
      "metadata": {
        "id": "ItEdspVv6VRa"
      },
      "source": [
        "####SetDelay(delay)\n",
        "set user maximum tolerate delay time"
      ]
    },
    {
      "cell_type": "markdown",
      "metadata": {
        "id": "Hw2FmHcm6pRN"
      },
      "source": [
        "####SetValuation(valuation)\n",
        "set user valuation function"
      ]
    },
    {
      "cell_type": "markdown",
      "metadata": {
        "id": "Sf7Vw9HJ6yqS"
      },
      "source": [
        "####PrintUser()\n",
        "print user information"
      ]
    },
    {
      "cell_type": "markdown",
      "metadata": {
        "id": "yGGk_9ffkYaR"
      },
      "source": [
        "####FitWorkers(workers)\n",
        "return fit workers."
      ]
    },
    {
      "cell_type": "markdown",
      "metadata": {
        "id": "b6MNk1fYmUDs"
      },
      "source": [
        "####FitWorkersList(workers)\n",
        "return fit workers order"
      ]
    },
    {
      "cell_type": "markdown",
      "metadata": {
        "id": "xHhOtNBV65g3"
      },
      "source": [
        "####Gain(data)\n",
        "return user gain by given data size<br>\n",
        "$$\\alpha\\ln(1+\\gamma q)$$"
      ]
    },
    {
      "cell_type": "markdown",
      "metadata": {
        "id": "ml457q6flKfW"
      },
      "source": [
        "### Worker class\n",
        "\n"
      ]
    },
    {
      "cell_type": "code",
      "metadata": {
        "id": "FgXbuYjSlMJ2"
      },
      "source": [
        "class Worker:\n",
        "  def __init__(self,type_list = []):\n",
        "    self.type_list = type_list      # type list of worker : [type,data size,type computing cost parameter,type computing time parameter]\n",
        "  def SetTypeList(self,type_list):\n",
        "    self.type_list = type_list\n",
        "  def AddType(self,new_type):\n",
        "    self.type_list.append(new_type)\n",
        "\n",
        "  def PrintWorker(self):\n",
        "    type_number = len(self.type_list)\n",
        "    print(\"| type number = %d\"%(type_number))\n",
        "    print(\"|  type|  size|  cost|  time|\")\n",
        "    for i in range(type_number):\n",
        "      print(\"|%10s|%10d|%e|%e|\"%(self.type_list[i][0],self.type_list[i][1],self.type_list[i][2],self.type_list[i][3]))\n",
        "\n",
        "  def FindType(self,data_type): # if exist return number, otherwise return -1\n",
        "    for i in range(len(self.type_list)): \n",
        "      if self.type_list[i][0] == data_type:\n",
        "        return i\n",
        "    return -1\n",
        "\n",
        "  def Cost(self,data_type,size,iteration):\n",
        "    type_number = self.FindType(data_type)\n",
        "    if type_number == -1:\n",
        "      return 0\n",
        "    else:\n",
        "      return self.type_list[type_number][2]*size*iteration\n",
        "\n",
        "  def Delay(self,data_type,size,iteration):\n",
        "    type_number = self.FindType(data_type)\n",
        "    if type_number == -1:\n",
        "      return 0\n",
        "    else:\n",
        "      return self.type_list[type_number][3]*size*iteration\n"
      ],
      "execution_count": 3,
      "outputs": []
    },
    {
      "cell_type": "markdown",
      "metadata": {
        "id": "HGs7lRt97swW"
      },
      "source": [
        "####\\__init__(type_list)\n",
        "type list of worker.<br>\n",
        "type list : [[type 1 information], ... ... ]<br>\n",
        "type information : [data type, data size, computing cost parament, computing time parament]"
      ]
    },
    {
      "cell_type": "markdown",
      "metadata": {
        "id": "A6OO0MpD8_v-"
      },
      "source": [
        "####SetTypeList(type_list)\n",
        "set worker type list."
      ]
    },
    {
      "cell_type": "markdown",
      "metadata": {
        "id": "19IZ3tKS9JIN"
      },
      "source": [
        "####AddType(new_type)\n",
        "add a new type data information to worker."
      ]
    },
    {
      "cell_type": "markdown",
      "metadata": {
        "id": "PnFQ5V8f9Qgi"
      },
      "source": [
        "####PrintWorker()\n",
        "print worker information."
      ]
    },
    {
      "cell_type": "markdown",
      "metadata": {
        "id": "R7tvuMfdJbP9"
      },
      "source": [
        "####FindType(data_type)\n",
        "return index of data type.<br>\n",
        "return -1 is do not exist."
      ]
    },
    {
      "cell_type": "markdown",
      "metadata": {
        "id": "LY0Vjl4_9cZf"
      },
      "source": [
        "####Cost(data_type,size,iteration)\n",
        "return computing cost.<br>\n",
        "return 0 is this data type do not exist<br>\n",
        "$$cqI$$\n",
        "c : cost parament<br>\n",
        "q : data size<br>\n",
        "T : iteration<br>"
      ]
    },
    {
      "cell_type": "markdown",
      "metadata": {
        "id": "RlJqxmHE_Ear"
      },
      "source": [
        "####Delay(data_type,size,iteration)\n",
        "return computing dalay time.<br>\n",
        "return 0 is this data type do not exist<br>\n",
        "$$dqI$$\n",
        "d : delay parament<br>\n",
        "q : data size<br>\n",
        "T : iteration<br>"
      ]
    },
    {
      "cell_type": "markdown",
      "metadata": {
        "id": "l0xXCjU1jnYz"
      },
      "source": [
        "### Test"
      ]
    },
    {
      "cell_type": "code",
      "metadata": {
        "colab": {
          "base_uri": "https://localhost:8080/"
        },
        "id": "kHQ2GA1-jkET",
        "outputId": "653564e7-b1d4-4bec-9b91-6ebc9dd83852"
      },
      "source": [
        "user0 = User(\"video\",10000,10,[9,10])\n",
        "user0.PrintUser()\n",
        "print(\"user gain : %d\"%(user0.Gain(10000000000)))\n",
        "worker0 = Worker([[\"video\",10000000000,0.000000000002,0.000000000004]])\n",
        "worker0.PrintWorker()\n",
        "print(\"worker cost : %f\"%(worker0.Cost(\"video\",10000000000,10000)))\n",
        "print(\"worker delay : %f\"%(worker0.Delay(\"video\",10000000000,10000)))"
      ],
      "execution_count": 4,
      "outputs": [
        {
          "output_type": "stream",
          "text": [
            "| type : video | iteration : 10000 | delay : 10 | valuation = [9.000000,10.000000]\n",
            "user gain : 227\n",
            "| type number = 1\n",
            "|  type|  size|  cost|  time|\n",
            "|     video|10000000000|2.000000e-12|4.000000e-12|\n",
            "worker cost : 200.000000\n",
            "worker delay : 400.000000\n"
          ],
          "name": "stdout"
        }
      ]
    },
    {
      "cell_type": "markdown",
      "metadata": {
        "id": "M92mdjqoihpJ"
      },
      "source": [
        "##Auction Case"
      ]
    },
    {
      "cell_type": "code",
      "metadata": {
        "id": "1bFbhkGIinka"
      },
      "source": [
        "def Case_1():\n",
        "  user0 = User(\"video\",10000,10,[50.0000,10.0000])\n",
        "  user1 = User(\"video\",10000,10,[40.0000,10.0000])\n",
        "  user2 = User(\"video\",10000,10,[30.0000,10.0000])\n",
        "  user3 = User(\"video\",10000,10,[20.0000,10.0000])\n",
        "  users = [user0,user1,user2,user3]\n",
        "  worker0 = Worker([[\"video\",100000,0.0000007,0.0000006],[\"picture\",10000,0.0000005,0.0000006],[\"audio\",10000,0.0000005,0.0000006]])\n",
        "  worker1 = Worker([[\"video\",100000,0.0000007,0.0000006],[\"picture\",10000,0.0000005,0.0000006]])\n",
        "  worker2 = Worker([[\"audio\",100000,0.0000005,0.0000006]])\n",
        "  workers = [worker0,worker1,worker2]\n",
        "  return [users,workers]\n",
        "def Case_2():\n",
        "  user0 = User(\"video\",10000,10,[50.0000,10.0000])\n",
        "  user1 = User(\"video\",10000,10,[40.0000,10.0000])\n",
        "  user2 = User(\"video\",10000,10,[30.0000,10.0000])\n",
        "  user3 = User(\"picture\",10000,10,[20.0000,10.0000])\n",
        "  user4 = User(\"picture\",10000,10,[50.0000,10.0000])\n",
        "  user5 = User(\"video\",10000,10,[40.0000,10.0000])\n",
        "  user6 = User(\"audio\",10000,10,[30.0000,10.0000])\n",
        "  user7 = User(\"audio\",10000,10,[20.0000,10.0000])\n",
        "  users = [user0,user1,user2,user3,user4,user5,user6,user7]\n",
        "  worker0 = Worker([[\"video\",100000,0.0000007,0.0000006],[\"picture\",10000,0.0000005,0.0000006],[\"audio\",10000,0.0000005,0.0000006]])\n",
        "  worker1 = Worker([[\"video\",100000,0.0000007,0.0000006],[\"picture\",10000,0.0000005,0.0000006]])\n",
        "  worker2 = Worker([[\"audio\",100000,0.0000005,0.0000006]])\n",
        "  worker3 = Worker([[\"video\",100000,0.0000007,0.0000006],[\"picture\",10000,0.0000005,0.0000006],[\"audio\",10000,0.0000005,0.0000006]])\n",
        "  worker4 = Worker([[\"video\",100000,0.0000007,0.0000006],[\"picture\",10000,0.0000005,0.0000006]])\n",
        "  worker5 = Worker([[\"audio\",100000,0.0000005,0.0000006]])\n",
        "  workers = [worker0,worker1,worker2,worker3,worker4,worker5]\n",
        "  return [users,workers]"
      ],
      "execution_count": 114,
      "outputs": []
    },
    {
      "cell_type": "markdown",
      "metadata": {
        "id": "kbXJhPCWz2cf"
      },
      "source": [
        "## Server system"
      ]
    },
    {
      "cell_type": "markdown",
      "metadata": {
        "id": "pMF7WplQBYUC"
      },
      "source": [
        "###GetAuctionFromJson(filename)\n",
        "set users and workers by json file."
      ]
    },
    {
      "cell_type": "code",
      "metadata": {
        "id": "S2mH7LaoBYpV"
      },
      "source": [
        "import json\n",
        "def GetAuctionFromJson(filename):\n",
        "  with open(filename) as f:\n",
        "    data = json.load(f)\n",
        "  user_number = len(data['users'])\n",
        "  worker_number = len(data['workers'])\n",
        "  users = []\n",
        "  workers = []\n",
        "  for i in range(user_number):\n",
        "    new_user = User(data['users'][i]['data_type'], \n",
        "             data['users'][i]['iteration'], \n",
        "             data['users'][i]['delay'], \n",
        "             [data['users'][i]['valuation_a'], data['users'][i]['valuation_b']])\n",
        "    users.append(new_user)\n",
        "  for j in range(worker_number):\n",
        "    type_list = []\n",
        "    type_number = len(data['workers'][j]['type_list'])\n",
        "    for k in range(type_number):\n",
        "      new_type = [data['workers'][j]['type_list'][k][\"data_type\"],\n",
        "             data['workers'][j]['type_list'][k][\"data_size\"],\n",
        "             data['workers'][j]['type_list'][k][\"cost\"],\n",
        "             data['workers'][j]['type_list'][k][\"delay\"]]\n",
        "      type_list.append(new_type)\n",
        "    new_worker = Worker(type_list)\n",
        "    workers.append(new_worker)\n",
        "  return[users,workers]"
      ],
      "execution_count": 6,
      "outputs": []
    },
    {
      "cell_type": "markdown",
      "metadata": {
        "id": "kz-ehk_PtKD1"
      },
      "source": [
        "###PrintAuction( users, workers )\n",
        "print users and workers information."
      ]
    },
    {
      "cell_type": "code",
      "metadata": {
        "id": "R0lHpUcTtPnk"
      },
      "source": [
        "def PrintAuction(users,workers):\n",
        "  print(\"Users\")\n",
        "  print(\"--------------------------\")\n",
        "  for i in range(len(users)):\n",
        "    users[i].PrintUser()\n",
        "    print(\"--------------------------\")\n",
        "  print(\"Workers\")\n",
        "  print(\"--------------------------\")\n",
        "  for i in range(len(workers)):\n",
        "    workers[i].PrintWorker()\n",
        "    print(\"--------------------------\")"
      ],
      "execution_count": 7,
      "outputs": []
    },
    {
      "cell_type": "markdown",
      "metadata": {
        "id": "QFoBI_SALRQV"
      },
      "source": [
        "###UtilityFromUser(user,workers,allocated_data)\n",
        "return utility from user $i$.<br><br>\n",
        "Utility Function : \n",
        "$$\\alpha^i\\ln\\left(1+\\gamma^i\\left(\\sum_{j\\in W}{q^i_j}\\right)\\right)-\\sum_{j\\in W}c^j_i\\left({q^i_j}\\right)$$"
      ]
    },
    {
      "cell_type": "code",
      "metadata": {
        "id": "kql3xneqLQw2"
      },
      "source": [
        "def UtilityFromUser(user,workers,allocated_data):\n",
        "  user_data = 0\n",
        "  workers_cost = 0\n",
        "  for j in range(len(workers)):\n",
        "    user_data += allocated_data[j]\n",
        "    workers_cost += workers[j].Cost(user.data_type,allocated_data[j],user.iteration)\n",
        "  user_gain = user.Gain(user_data)\n",
        "  return (user_gain - workers_cost)"
      ],
      "execution_count": 8,
      "outputs": []
    },
    {
      "cell_type": "markdown",
      "metadata": {
        "id": "aIrVY52UNcmL"
      },
      "source": [
        "###SocialWelfare(users,workers,allocated_data_list)\n",
        "return social welfare.<br>\n",
        "allocation data to user   : n matrix \n",
        "allocation data from worker : n X m matrix<br><br>\n",
        "Objective function : \n",
        "$$\\sum_{i \\in U}{\\left(g^i\\left(\\sum_{j\\in W}{q^i_j}\\right)-\\sum_{j\\in W}{c_j\\left(q^i_j\\right)} \\right)}$$"
      ]
    },
    {
      "cell_type": "code",
      "metadata": {
        "id": "8Y8Mzw5pOFIY"
      },
      "source": [
        "def SocialWelfare(users,workers,allocated_data_list):\n",
        "  # allocated data to users   : n  matrix\n",
        "  # allocated data from workers : n*m matrix\n",
        "  social_welfare = 0\n",
        "  for i in range(len(users)):\n",
        "    social_welfare += UtilityFromUser(users[i],workers,allocated_data_list[i])\n",
        "  return social_welfare"
      ],
      "execution_count": 9,
      "outputs": []
    },
    {
      "cell_type": "markdown",
      "metadata": {
        "id": "ZM4Aov4OJKRH"
      },
      "source": [
        "###Constraint(users,workers,allocated_data_list,MAX_DELAY)"
      ]
    },
    {
      "cell_type": "code",
      "metadata": {
        "id": "7stlLlsPJJVR"
      },
      "source": [
        "def Constraint(users,workers,allocated_data_list,MAX_DELAY):\n",
        "  time_out = []\n",
        "  for j in range(len(workers)):\n",
        "    computing_time = 0\n",
        "    for i in range(len(users)):\n",
        "      computing_time += workers[j].Delay(users[i].data_type,allocated_data_list[i][j],users[i].iteration)\n",
        "    computing_time -= MAX_DELAY\n",
        "    time_out.append(computing_time)\n",
        "  return time_out"
      ],
      "execution_count": 10,
      "outputs": []
    },
    {
      "cell_type": "markdown",
      "metadata": {
        "id": "hUDWziEp47qj"
      },
      "source": [
        "###Penalty(users,workers,allocated_data_list,MAX_DELAY,mu)\n",
        "return $||constraint + \\mu||^2_2$"
      ]
    },
    {
      "cell_type": "code",
      "metadata": {
        "id": "NVmGSFNz47cE"
      },
      "source": [
        "def Penalty(users,workers,allocated_data_list,MAX_DELAY,mu):\n",
        "  panalty_value = 0\n",
        "  constraint_value = Constraint(users,workers,allocated_data_list,MAX_DELAY)\n",
        "  for j in range(len(workers)):\n",
        "    panalty_value += (constraint_value[j]+mu[j])*(constraint_value[j]+mu[j])\n",
        "    # if (constraint_value[j]>=0):\n",
        "    #   panalty_value += (constraint_value[j]+mu[j])*(constraint_value[j]+mu[j])\n",
        "    # else :\n",
        "    #   panalty_value += mu[j]*mu[j]\n",
        "  return panalty_value"
      ],
      "execution_count": 78,
      "outputs": []
    },
    {
      "cell_type": "markdown",
      "metadata": {
        "id": "Keik4ej_Gi2h"
      },
      "source": [
        "###AugmentLagarangeForUser(users, workers, allocated_data_list, MAX_DELAY, mu, rho, user_id, user_data)"
      ]
    },
    {
      "cell_type": "code",
      "metadata": {
        "id": "vybmVkySGicC"
      },
      "source": [
        "def AugmentLagarageForUser(users,workers,allocated_data_list,MAX_DELAY,mu,rho,user_id,user_data):\n",
        "  fit_workerrs_list = users[user_id].FitWorkersList(workers)\n",
        "  for j in range(len(workers)):\n",
        "    allocated_data_list[user_id][j] = 0\n",
        "  for j in range(len(fit_workerrs_list)):\n",
        "    allocated_data_list[user_id][fit_workerrs_list[j]] = user_data[j]\n",
        "  return -UtilityFromUser(users[user_id], workers, allocated_data_list[user_id]) + rho/2*Penalty(users,workers,allocated_data_list,MAX_DELAY,mu)"
      ],
      "execution_count": 40,
      "outputs": []
    },
    {
      "cell_type": "markdown",
      "metadata": {
        "id": "aK63rNOmxfwn"
      },
      "source": [
        "###UpdateUser(users, workers, allocated_data_list, MAX_DELAY, mu, rho)"
      ]
    },
    {
      "cell_type": "code",
      "metadata": {
        "id": "a59ob332xjmM"
      },
      "source": [
        "def UpdateUser(users,workers,allocated_data_list,MAX_DELAY,mu,rho):\n",
        "  for i in range(len(users)):\n",
        "    q_bounds = []\n",
        "    q_i = []\n",
        "    fit_workerrs_list = users[i].FitWorkersList(workers)\n",
        "    for j in range(len(fit_workerrs_list)):\n",
        "      q_bounds.append((0,workers[fit_workerrs_list[j]].type_list[workers[fit_workerrs_list[j]].FindType(users[1].data_type)][1]))\n",
        "      q_i.append(allocated_data_list[i][fit_workerrs_list[j]])\n",
        "    arg_q_i = opt.fmin_l_bfgs_b(lambda q: AugmentLagarageForUser(users,workers,allocated_data_list,MAX_DELAY,mu,rho,i,q), q_i, bounds = q_bounds, approx_grad=True)[0]\n",
        "    for j in range(len(workers)):\n",
        "      allocated_data_list[i][j] = 0\n",
        "    for j in range(len(fit_workerrs_list)):\n",
        "      allocated_data_list[i][fit_workerrs_list[j]] = arg_q_i[j]\n",
        "  update_mu = Constraint(users,workers,allocated_data_list,MAX_DELAY)\n",
        "  for j in range(len(workers)):\n",
        "    mu[j] = mu[j] + update_mu[j]\n",
        "  return [allocated_data_list,mu]"
      ],
      "execution_count": 131,
      "outputs": []
    },
    {
      "cell_type": "markdown",
      "metadata": {
        "id": "tVqaNbWzR9q2"
      },
      "source": [
        "###TwoNormError(a,b)"
      ]
    },
    {
      "cell_type": "code",
      "metadata": {
        "id": "HzvuGykoR-JQ"
      },
      "source": [
        "def TwoNormError(a,b):\n",
        "  differnt = 0\n",
        "  for i in range(len(a)):\n",
        "    differnt += (a[i]-b[i])*(a[i]-b[i])\n",
        "  return differnt"
      ],
      "execution_count": 96,
      "outputs": []
    },
    {
      "cell_type": "markdown",
      "metadata": {
        "id": "jIz4o1_MRcOn"
      },
      "source": [
        "###ADMM(users, workers, allocated_data_list, MAX_DELAY, error, MAX_count)"
      ]
    },
    {
      "cell_type": "code",
      "metadata": {
        "id": "30eRTgaaRfY2"
      },
      "source": [
        "import copy\n",
        "import math\n",
        "def ADMM(users,workers,allocated_data_list,MAX_DELAY,error,MAX_count):\n",
        "  mu =[]\n",
        "  rho = 1\n",
        "  for j in range(len(workers)):\n",
        "    mu.append(1)\n",
        "  prev_mu = copy.deepcopy(mu)\n",
        "  [allocated_data_list,mu] = UpdateUser(users,workers,allocated_data_list,MAX_DELAY,mu,rho)\n",
        "  count = 0\n",
        "  while TwoNormError(prev_mu,mu) >= error and count <= MAX_count:\n",
        "    prev_mu = copy.deepcopy(mu)\n",
        "    [allocated_data_list,mu] = UpdateUser(users,workers,allocated_data_list,MAX_DELAY,mu,rho)\n",
        "    count += 1\n",
        "  prev_mu = copy.deepcopy(mu)\n",
        "  [allocated_data_list,mu] = UpdateUser(users,workers,allocated_data_list,MAX_DELAY,mu,rho)\n",
        "  return allocated_data_list"
      ],
      "execution_count": 133,
      "outputs": []
    },
    {
      "cell_type": "markdown",
      "metadata": {
        "id": "HqmE9-6PLONZ"
      },
      "source": [
        "##Test"
      ]
    },
    {
      "cell_type": "code",
      "metadata": {
        "colab": {
          "base_uri": "https://localhost:8080/"
        },
        "id": "ixULpgcdK6Lc",
        "outputId": "f3c38be5-2054-4dce-83ba-cff7d80c5f9f"
      },
      "source": [
        "# [users,workers] = GetAuctionFromJson(\"data.json\")\n",
        "def test_1():\n",
        "  print(\"Test case 1.\")\n",
        "  [users,workers] = Case_1()\n",
        "  allocated_data_list = [[6000,5000,0],[6000,4000,0],[6000,3000,0],[6000,2000,0]]\n",
        "  mu = [5,5,5]\n",
        "  prev_mu = mu\n",
        "  rho = 2\n",
        "  MAX_DELAY = 200\n",
        "  allocated_data_list = ADMM(users,workers,allocated_data_list,MAX_DELAY,1.0e-06,500)\n",
        "  print(allocated_data_list)\n",
        "  print(SocialWelfare(users,workers,allocated_data_list))\n",
        "  print(\"-----------------------------------------------\")\n",
        "\n",
        "def test_2():\n",
        "  print(\"Test case 2.\")\n",
        "  [users2,workers2] = Case_2()\n",
        "  PrintAuction(users2,workers2)\n",
        "  allocated_data_list2 = [[6000,5000,0,0,0,0],[6000,4000,0,0,0,0],[6000,3000,0,0,0,0],[6000,2000,0,0,0,0],[0,0,0,0,0,0],[0,0,0,0,0,0],[0,0,0,0,0,0],[8000,10000,0,0,0,0]]\n",
        "  mu = [5,5,5]\n",
        "  prev_mu = mu\n",
        "  rho = 2\n",
        "  MAX_DELAY = 200\n",
        "  print(SocialWelfare(users2,workers2,allocated_data_list2))\n",
        "  allocated_data_list2 = ADMM(users2,workers2,allocated_data_list2,MAX_DELAY,1.0e-06,500)\n",
        "  print(\"Allocated data list : \")\n",
        "  for i in range(len(users2)):\n",
        "    print(\"user %d\"%(i))\n",
        "    print(allocated_data_list2[i])\n",
        "  constraint_for_worker2 = Constraint(users2,workers2,allocated_data_list2,MAX_DELAY)\n",
        "  print(\"Constraint : \")\n",
        "  for j in range(len(workers2)):\n",
        "    print(\"worker %d\"%(j))\n",
        "    print(constraint_for_worker2[j])\n",
        "  print(\"SocialWelfare : \")\n",
        "  print(SocialWelfare(users2,workers2,allocated_data_list2))\n",
        "  print(\"-----------------------------------------------\")\n",
        "\n",
        "# test_1()\n",
        "test_2()"
      ],
      "execution_count": 139,
      "outputs": [
        {
          "output_type": "stream",
          "text": [
            "Test case 2.\n",
            "Users\n",
            "--------------------------\n",
            "| type : video | iteration : 10000 | delay : 10 | valuation = [50.000000,10.000000]\n",
            "--------------------------\n",
            "| type : video | iteration : 10000 | delay : 10 | valuation = [40.000000,10.000000]\n",
            "--------------------------\n",
            "| type : video | iteration : 10000 | delay : 10 | valuation = [30.000000,10.000000]\n",
            "--------------------------\n",
            "| type : picture | iteration : 10000 | delay : 10 | valuation = [20.000000,10.000000]\n",
            "--------------------------\n",
            "| type : picture | iteration : 10000 | delay : 10 | valuation = [50.000000,10.000000]\n",
            "--------------------------\n",
            "| type : video | iteration : 10000 | delay : 10 | valuation = [40.000000,10.000000]\n",
            "--------------------------\n",
            "| type : audio | iteration : 10000 | delay : 10 | valuation = [30.000000,10.000000]\n",
            "--------------------------\n",
            "| type : audio | iteration : 10000 | delay : 10 | valuation = [20.000000,10.000000]\n",
            "--------------------------\n",
            "Workers\n",
            "--------------------------\n",
            "| type number = 3\n",
            "|  type|  size|  cost|  time|\n",
            "|     video|    100000|7.000000e-07|6.000000e-07|\n",
            "|   picture|     10000|5.000000e-07|6.000000e-07|\n",
            "|     audio|     10000|5.000000e-07|6.000000e-07|\n",
            "--------------------------\n",
            "| type number = 2\n",
            "|  type|  size|  cost|  time|\n",
            "|     video|    100000|7.000000e-07|6.000000e-07|\n",
            "|   picture|     10000|5.000000e-07|6.000000e-07|\n",
            "--------------------------\n",
            "| type number = 1\n",
            "|  type|  size|  cost|  time|\n",
            "|     audio|    100000|5.000000e-07|6.000000e-07|\n",
            "--------------------------\n",
            "| type number = 3\n",
            "|  type|  size|  cost|  time|\n",
            "|     video|    100000|7.000000e-07|6.000000e-07|\n",
            "|   picture|     10000|5.000000e-07|6.000000e-07|\n",
            "|     audio|     10000|5.000000e-07|6.000000e-07|\n",
            "--------------------------\n",
            "| type number = 2\n",
            "|  type|  size|  cost|  time|\n",
            "|     video|    100000|7.000000e-07|6.000000e-07|\n",
            "|   picture|     10000|5.000000e-07|6.000000e-07|\n",
            "--------------------------\n",
            "| type number = 1\n",
            "|  type|  size|  cost|  time|\n",
            "|     audio|    100000|5.000000e-07|6.000000e-07|\n",
            "--------------------------\n",
            "1560.9671791695864\n",
            "Allocated data list : \n",
            "user 0\n",
            "[0.0, 3273.473054598595, 0, 12283.558779163408, 12283.59200002705, 0]\n",
            "user 1\n",
            "[3841.9168578287836, 8479.695346752074, 0, 4477.065293633387, 4476.399557849817, 0]\n",
            "user 2\n",
            "[7255.238282342033, 4254.339369979229, 0, 1269.8268996291924, 1267.9518749506392, 0]\n",
            "user 3\n",
            "[10916.297281137397, 6916.60266824059, 0, 4903.1178584836625, 4903.059063227483, 0]\n",
            "user 4\n",
            "[7927.465431426949, 7934.908399290154, 0, 7924.514131792188, 7925.675168697047, 0]\n",
            "user 5\n",
            "[2485.151594556993, 2486.5555414177065, 0, 2487.5296824210304, 2488.9129444993205, 0]\n",
            "user 6\n",
            "[0.0, 0, 26335.63595955646, 0.0, 0, 26339.871880213057]\n",
            "user 7\n",
            "[907.21313378978, 0, 6997.666329564584, 0.0, 0, 6993.456458574722]\n",
            "Constraint : \n",
            "worker 0\n",
            "-0.0003045135084107642\n",
            "worker 1\n",
            "0.0734462816700443\n",
            "worker 2\n",
            "-0.00018626527372589408\n",
            "worker 3\n",
            "0.07367587073721893\n",
            "worker 4\n",
            "0.07354365550810371\n",
            "worker 5\n",
            "-2.996727334902971e-05\n",
            "SocialWelfare : \n",
            "2304.455360450034\n",
            "-----------------------------------------------\n"
          ],
          "name": "stdout"
        }
      ]
    },
    {
      "cell_type": "markdown",
      "metadata": {
        "id": "bSjsMvhu5jyZ"
      },
      "source": [
        "### Ver.3\n",
        "<dl>\n",
        "    <dd>利用 ADMM 來找最佳解</dd>\n",
        "    <dd>利用 VCG 算 payment</dd>\n",
        "</dl>\n",
        "<dl>\n",
        "<dt>步驟:</dt>\n",
        "  <dd>ADMM Method:<br>\n",
        "    Objective Function:\n",
        "  </dd>\n",
        "  $$\\max_{X}{\\sum_{i \\in U}{\\left(v^i\\left(\\sum_{j \\in W}x^{i}_{j}\\right) -\\sum_{j \\in W}{c_j(x^i_j)}\\right)}}$$\n",
        "</dl>"
      ]
    },
    {
      "cell_type": "code",
      "metadata": {
        "id": "fD3Va68KFPS5"
      },
      "source": [
        ""
      ],
      "execution_count": null,
      "outputs": []
    },
    {
      "cell_type": "markdown",
      "metadata": {
        "id": "riai_6T6qSkX"
      },
      "source": [
        "#ADMM\n",
        "\n"
      ]
    },
    {
      "cell_type": "markdown",
      "metadata": {
        "id": "ySznShxdfJzT"
      },
      "source": [
        "## CASE 1\n",
        "Objective Function :\n",
        "$$f(x)=(x_1)^2+(x_2)^2+(x_3)^2$$\n",
        "subject to :\n",
        "$$x_1+x_2+x_3=1$$\n",
        "Lagrangian Multiplier:\n",
        "$$(x_1)^2+(x_2)^2+(x_3)^2 + y(x_1+x_2+x_3-1)$$\n",
        "ADMM:\n",
        "$$L_p(x_1,x_2,x_3,y)=(x_1)^2+(x_2)^2+(x_3)^2+\\frac{\\rho}{2}||x_1+x_2+x_3-1+y||_2^2$$\n",
        "update:<br>\n",
        "$x_i = \\arg\\min x_i^2 + \\frac{\\rho}{2}||x_1+x_2+x_3-1+y||$<br>\n",
        "$y = y + x_1+x_2+x_3-1$"
      ]
    },
    {
      "cell_type": "code",
      "metadata": {
        "id": "pcXTuqbSqWGA",
        "colab": {
          "base_uri": "https://localhost:8080/"
        },
        "outputId": "84cb002f-c56e-4783-a315-8c33c5e4f33a"
      },
      "source": [
        "import scipy.optimize as opt\n",
        "import scipy\n",
        "from numpy import *\n",
        "def object(x):\n",
        "  return (x[0]**(2)+x[1]**(2)+x[2]**(2))\n",
        "\n",
        "def constraint(x):\n",
        "  return x[0]+x[1]+x[2]-1\n",
        "\n",
        "def lagrangian(x,l,r = 1):\n",
        "  return object(x) + r*(constraint(x)+l)**(2)\n",
        "\n",
        "def setL(x,l):\n",
        "  l = l + constraint(x)\n",
        "  return l\n",
        "\n",
        "def setValue(arg_x,arg_l,r = 1):\n",
        "  arg_x = opt.fmin(lambda x: lagrangian(x,arg_l,r), [0,0,0], disp = 0)\n",
        "  arg_l = arg_l + constraint(arg_x)\n",
        "  return [arg_x,arg_l]\n",
        "\n",
        "prev_value = [[5,5,5],5]\n",
        "prev = lagrangian(prev_value[0],prev_value[1])\n",
        "now_value = setValue(prev_value[0],prev_value[1])\n",
        "now = lagrangian(now_value[0],now_value[1])\n",
        "count = 0\n",
        "while abs(prev_value[1] - now_value[1]) > 1.0e-06 and count < 10000:\n",
        "  prev_value = now_value\n",
        "  now_value = setValue(prev_value[0],prev_value[1],1)\n",
        "  prev = now\n",
        "  now = lagrangian(now_value[0],now_value[1])\n",
        "  count += 1\n",
        "  # print(\"turn %d\"%(count))\n",
        "  # print(\"  x = [%e,%e,%e]\"%(now_value[0][0],now_value[0][1],now_value[0][2]))\n",
        "  # print(\"  y = %e\"%(now_value[1]))\n",
        "ans = opt.fmin(lambda x: lagrangian(x,now_value[1]), [0,0,0], disp = 0)\n",
        "print(now_value)\n",
        "print(now)\n",
        "print(ans)\n",
        "print(object(ans))\n",
        "print(constraint(ans))"
      ],
      "execution_count": null,
      "outputs": [
        {
          "output_type": "stream",
          "text": [
            "[array([0.33331224, 0.33333501, 0.33335262]), -0.33330953784043926]\n",
            "0.44442858216226633\n",
            "[0.33331224 0.33333501 0.33335262]\n",
            "0.3333332460116796\n",
            "-1.32212181203073e-07\n"
          ],
          "name": "stdout"
        }
      ]
    },
    {
      "cell_type": "markdown",
      "metadata": {
        "id": "K29KbWuyfGJM"
      },
      "source": [
        "## CASE 2\n",
        "objective function:\n",
        "$$f(x) = 6\\ln(5x_1)+4\\ln(7x_2)+2\\ln(9x_3) - (0.001x_1 + 0.002x_2 + 0.003x_3)$$\n",
        "subject to:\n",
        "$$0.0004x_1 + 0.0004x_2 + 0.0004x_3\\le500$$\n",
        "lagrangian:\n",
        "$$6\\ln(5x_1)+4\\ln(7x_2)+2\\ln(9x_3) - (0.001x_1 + 0.002x_2 + 0.003x_3) + \\frac{\\rho}{2}||0.0004x_1 + 0.0004x_2 + 0.0004x_3 - 500 +y||^2_2$$"
      ]
    },
    {
      "cell_type": "code",
      "metadata": {
        "id": "794RIvbwgFfd",
        "colab": {
          "base_uri": "https://localhost:8080/"
        },
        "outputId": "79f84e12-d27e-4b9d-a2a7-a8c2e885451d"
      },
      "source": [
        "import scipy.optimize as opt\n",
        "import scipy\n",
        "from numpy import *\n",
        "import math\n",
        "def object2(x):\n",
        "  return -(6*math.log(1+5*x[0])+4*math.log(1+7*x[0])+2*math.log(1+9*x[0])-0.001*x[0]-0.002*x[0]-0.003*x[0] )\n",
        "\n",
        "def constraint2(x):\n",
        "  return 0.00004*x[0]+0.00004*x[1]+0.0004*x[2]-500\n",
        "\n",
        "def lagrangian2(x,l,r=1):\n",
        "  return object2(x) + r*(constraint2(x)+l)**(2)\n",
        "\n",
        "def dual_object2(l):\n",
        "  x_bounds = [(0,100000000000),(0,100000000000),(0,100000000000)]\n",
        "  arg_x = opt.fmin_l_bfgs_b(lambda x: lagrangian2(x,l), [5,5,5], bounds = x_bounds ,approx_grad=True)[0]\n",
        "  return object2(arg_x)\n",
        "\n",
        "def setValue2(arg_x,arg_l,r=1):\n",
        "  x_bounds = [(0,100000000000),(0,100000000000),(0,100000000000)]\n",
        "  arg_x = opt.fmin_l_bfgs_b(lambda x: lagrangian2(x,arg_l,r), arg_x, bounds = x_bounds,approx_grad=True)[0]\n",
        "  arg_l = arg_l + constraint2(arg_x)\n",
        "  return [arg_x,arg_l]\n",
        "\n",
        "prev_value2 = [[5,5,5],5]\n",
        "now_value2 = setValue2(prev_value2[0],prev_value2[1])\n",
        "prev2 = lagrangian2(prev_value2[0],prev_value2[1])\n",
        "now2 = lagrangian2(now_value2[0],now_value2[1])\n",
        "count2 = 0\n",
        "a2 = 0.25\n",
        "while abs(now_value2[1] - prev_value2[1]) > 1.0e-05 and count2 < 500:\n",
        "  prev_value2 = now_value2\n",
        "  now_value2 = setValue2(prev_value2[0],prev_value2[1],a2)\n",
        "  prev2 = now2\n",
        "  now2 = lagrangian2(now_value2[0],now_value2[1])\n",
        "  count2 += 1\n",
        "  # print(\"turn %d\"%(count2))\n",
        "  # print(\"  x = [%e,%e,%e]\"%(now_value2[0][0],now_value2[0][1],now_value2[0][2]))\n",
        "  # print(\"  y = %e\"%(now_value2[1]))\n",
        "  # print(\"------------------------------\")\n",
        "  # print(count)\n",
        "  # a = a * 0.5\n",
        "ans2 = opt.fmin_l_bfgs_b(lambda x: lagrangian2(x,now_value2[1]), now_value2[0],bounds = [(0,100000000000),(0,100000000000),(0,100000000000)],approx_grad=True)[0]\n",
        "print(now_value2)\n",
        "print(now2)\n",
        "print(ans2)\n",
        "print(object2(ans2))\n",
        "print(constraint2(ans2))\n",
        "test_l_ans = opt.fmin_l_bfgs_b(lambda x: -dual_object2(x), 5,approx_grad=True)[0]\n",
        "test_x_ans = opt.fmin_l_bfgs_b(lambda x: lagrangian2(x,test_l_ans), [5,5,5],bounds = [(0,100000000000),(0,100000000000),(0,100000000000)],approx_grad=True)[0]\n",
        "print(\"other way\")\n",
        "print(test_l_ans)\n",
        "print(\"%e\"%(test_x_ans[0]))\n",
        "print(\"%e\"%(test_x_ans[1]))\n",
        "print(\"%e\"%(test_x_ans[2]))\n",
        "print(object2(test_x_ans))\n",
        "print(constraint2(test_x_ans))"
      ],
      "execution_count": 23,
      "outputs": [
        {
          "output_type": "stream",
          "text": [
            "[array([   2000.48181503,  304840.39455471, 1219311.66093678]), -0.8563017918078231]\n",
            "-100.31037488016084\n",
            "[   1998.83657534  305256.24463581 1221415.40031068]\n",
            "-101.04654207114179\n",
            "0.856363372716487\n",
            "other way\n",
            "[5.00980474]\n",
            "1.997198e+03\n",
            "5.033970e+04\n",
            "1.232247e+06\n",
            "-101.04653313661849\n",
            "-5.007570410213134\n"
          ],
          "name": "stdout"
        }
      ]
    },
    {
      "cell_type": "markdown",
      "metadata": {
        "id": "lC3F2F354vyT"
      },
      "source": [
        "##CASE 3\n",
        "objective :\n",
        "$$f(x_1,x_2,x_3) = 9\\ln(5(x_1+x_2+x_3))-0.00001x_1-0.00001x_2-0.00001x_3$$\n",
        "constraint : \n",
        "$$x_1+x_2+x_3 \\le 50000$$\n",
        "largangiant:\n",
        "$$\\ln(x_1+x_2)+\\ln(x_3)-x_1-x_2-x_3 + \\frac{\\rho}{2}||x_1+x_2+x_3-500+y||_2^2$$"
      ]
    },
    {
      "cell_type": "code",
      "metadata": {
        "colab": {
          "base_uri": "https://localhost:8080/"
        },
        "id": "zf_w8r5W4wKr",
        "outputId": "d0e6f753-f43e-4272-a24d-b1d6f2cca2d6"
      },
      "source": [
        "import scipy.optimize as opt\n",
        "import scipy\n",
        "from numpy import *\n",
        "import math\n",
        "def object3(x):\n",
        "  return -(9*math.log(5*(x[0]+x[1]+x[2]))-0.00001*(x[0]+x[1]+x[2]))\n",
        "def constraint3(x):\n",
        "  return x[0]+x[1]+x[2]-50000\n",
        "def lagrangian3(x,y,r=1):\n",
        "  return object3(x)+r*(constraint3(x)+y)**(2)\n",
        "def setValue3(arg_x,arg_y,r=1):\n",
        "  arg_x = opt.fmin_l_bfgs_b(lambda x: lagrangian3(x,arg_y,r), arg_x, bounds = [(0,100000000000),(0,100000000000),(0,100000000000)],approx_grad=True)[0]\n",
        "  arg_y = arg_y + constraint3(arg_x)\n",
        "  return [arg_x,arg_y]\n",
        "\n",
        "prev_value3 = [[5,5,5],5]\n",
        "now_value3 = setValue3(prev_value3[0],prev_value3[1])\n",
        "count3 = 0\n",
        "while abs(prev_value3[1]-now_value3[1]) > 1.0e-06 and count3 < 50000:\n",
        "  prev_value3 = now_value3\n",
        "  now_value3 = setValue3(prev_value3[0],prev_value3[1])\n",
        "  count3 += 1\n",
        "  print(\"turn %d\"%(count3))\n",
        "  print(\"  x = [%e,%e,%e]\"%(now_value3[0][0],now_value3[0][1],now_value3[0][2]))\n",
        "  print(\"  y = %e\"%(now_value3[1]))\n",
        "  print(\"------------------------------\")\n",
        "\n",
        "\n",
        "print(object3(now_value3[0]))\n",
        "print(constraint3(now_value3[0]))"
      ],
      "execution_count": null,
      "outputs": [
        {
          "output_type": "stream",
          "text": [
            "turn 1\n",
            "  x = [1.666666e+04,1.666666e+04,1.666667e+04]\n",
            "  y = 8.789101e-05\n",
            "------------------------------\n",
            "turn 2\n",
            "  x = [1.666666e+04,1.666666e+04,1.666667e+04]\n",
            "  y = 9.057818e-05\n",
            "------------------------------\n",
            "turn 3\n",
            "  x = [1.666666e+04,1.666666e+04,1.666667e+04]\n",
            "  y = 8.517841e-05\n",
            "------------------------------\n",
            "turn 4\n",
            "  x = [1.666666e+04,1.666666e+04,1.666667e+04]\n",
            "  y = 8.509734e-05\n",
            "------------------------------\n",
            "-111.36294577158567\n",
            "-8.106871973723173e-08\n"
          ],
          "name": "stdout"
        }
      ]
    },
    {
      "cell_type": "markdown",
      "metadata": {
        "id": "PC8PIDqI76Jp"
      },
      "source": [
        "test"
      ]
    },
    {
      "cell_type": "code",
      "metadata": {
        "id": "qN25_7bAh598"
      },
      "source": [
        "import scipy.optimize as opt\n",
        "import scipy\n",
        "from numpy import *\n",
        "import math\n",
        "def f(x):\n",
        "  print(x)\n",
        "  return (6*math.log(1+5*x[0])+4*math.log(1+7*x[1])+2*math.log(1+9*x[2]))\n",
        "\n",
        "# arg = opt.fmin_l_bfgs_b(lambda x : f(x),[100,100,100])\n",
        "arg = opt.fmin_l_bfgs_b(lambda x : f(x),[100,100,100],bounds = [(0,100000),(0,100000),(0,100000)],approx_grad=True)\n",
        "print(arg[0])\n"
      ],
      "execution_count": null,
      "outputs": []
    },
    {
      "cell_type": "code",
      "metadata": {
        "id": "_xZjpQGDm2iD"
      },
      "source": [
        "import scipy.optimize as opt\n",
        "import scipy\n",
        "from numpy import *\n",
        "import math\n",
        "def f(x):\n",
        "    print(x)\n",
        "    return math.log(x[0]**(2)) + x[1]\n",
        "\n",
        "max_x = opt.fmin_l_bfgs_b(lambda x: f(x), [1.0,1.0], bounds=[(-9,9),(-9,9)],approx_grad=True)\n",
        "print(max_x)"
      ],
      "execution_count": null,
      "outputs": []
    }
  ]
}